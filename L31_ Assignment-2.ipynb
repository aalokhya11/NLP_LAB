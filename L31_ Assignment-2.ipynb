{
  "nbformat": 4,
  "nbformat_minor": 0,
  "metadata": {
    "colab": {
      "provenance": []
    },
    "kernelspec": {
      "name": "python3",
      "display_name": "Python 3"
    },
    "language_info": {
      "name": "python"
    }
  },
  "cells": [
    {
      "cell_type": "markdown",
      "source": [
        "NATURAL LANGUAGE PROCESSING(NLP)\n",
        "\n",
        "ASSIGNMENT-2  "
      ],
      "metadata": {
        "id": "TIK3tswXLZzK"
      }
    },
    {
      "cell_type": "markdown",
      "source": [
        "Take your own text or take text as “Hello there! How are you doing today? NLP is fascinating.\" Implement Tokenization in the text. [CO1]"
      ],
      "metadata": {
        "id": "az1l9c5fLJBY"
      }
    },
    {
      "cell_type": "code",
      "execution_count": 1,
      "metadata": {
        "colab": {
          "base_uri": "https://localhost:8080/"
        },
        "id": "_02Mx4woKPdw",
        "outputId": "aa6bdf89-e414-4b45-8d01-1bb593c48da4"
      },
      "outputs": [
        {
          "output_type": "stream",
          "name": "stderr",
          "text": [
            "[nltk_data] Downloading package punkt to /root/nltk_data...\n",
            "[nltk_data]   Unzipping tokenizers/punkt.zip.\n"
          ]
        },
        {
          "output_type": "stream",
          "name": "stdout",
          "text": [
            "Sentence Tokens:\n",
            " ['Hello there!', 'How are you doing today?', 'NLP is fascinating.']\n",
            "\n",
            "Word Tokens:\n",
            " ['Hello', 'there', '!', 'How', 'are', 'you', 'doing', 'today', '?', 'NLP', 'is', 'fascinating', '.']\n"
          ]
        }
      ],
      "source": [
        "import nltk\n",
        "from nltk.tokenize import word_tokenize, sent_tokenize\n",
        "\n",
        "# Download required NLTK data (if not already available)\n",
        "nltk.download('punkt')\n",
        "\n",
        "# Define your text\n",
        "text = \"Hello there! How are you doing today? NLP is fascinating.\"\n",
        "\n",
        "# Tokenize the text into sentences\n",
        "sent_tokens = sent_tokenize(text)\n",
        "print(\"Sentence Tokens:\\n\", sent_tokens)\n",
        "\n",
        "# Tokenize the text into words\n",
        "word_tokens = word_tokenize(text)\n",
        "print(\"\\nWord Tokens:\\n\", word_tokens)\n"
      ]
    },
    {
      "cell_type": "markdown",
      "source": [
        "Take your own words or take words = [\"running\", \"ran\", \"runs\", \"easily\", \"fairly\"]. Implement Stemming in the text. [CO1]"
      ],
      "metadata": {
        "id": "7SO21znbLMNB"
      }
    },
    {
      "cell_type": "code",
      "source": [
        "from nltk.stem import PorterStemmer\n",
        "\n",
        "# Define your words\n",
        "words = [\"running\", \"ran\", \"runs\", \"easily\", \"fairly\"]\n",
        "\n",
        "# Initialize the stemmer\n",
        "stemmer = PorterStemmer()\n",
        "\n",
        "# Apply stemming\n",
        "stemmed_words = [stemmer.stem(word) for word in words]\n",
        "print(\"\\nStemmed Words:\\n\", stemmed_words)\n"
      ],
      "metadata": {
        "colab": {
          "base_uri": "https://localhost:8080/"
        },
        "id": "uOTHhNn_KSxT",
        "outputId": "50e0a56b-ed49-49ec-af79-292349151e9f"
      },
      "execution_count": 2,
      "outputs": [
        {
          "output_type": "stream",
          "name": "stdout",
          "text": [
            "\n",
            "Stemmed Words:\n",
            " ['run', 'ran', 'run', 'easili', 'fairli']\n"
          ]
        }
      ]
    },
    {
      "cell_type": "markdown",
      "source": [
        "Implement representation of word on any text or take text as “NLP is fun and interesting.\", \"NLP involves linguistics and computer science.\" [CO1]"
      ],
      "metadata": {
        "id": "5mzWbHF4LQjJ"
      }
    },
    {
      "cell_type": "code",
      "source": [
        "from sklearn.feature_extraction.text import CountVectorizer\n",
        "\n",
        "# Define your texts\n",
        "texts = [\n",
        "    \"NLP is fun and interesting.\",\n",
        "    \"NLP involves linguistics and computer science.\"\n",
        "]\n",
        "\n",
        "# Initialize the CountVectorizer\n",
        "vectorizer = CountVectorizer()\n",
        "\n",
        "# Fit and transform the texts\n",
        "X = vectorizer.fit_transform(texts)\n",
        "\n",
        "# Get feature names\n",
        "feature_names = vectorizer.get_feature_names_out()\n",
        "print(\"\\nFeature Names:\\n\", feature_names)\n",
        "\n",
        "# Get the BoW representation\n",
        "bow_representation = X.toarray()\n",
        "print(\"\\nBag-of-Words Representation:\\n\", bow_representation)\n"
      ],
      "metadata": {
        "colab": {
          "base_uri": "https://localhost:8080/"
        },
        "id": "jJlOOrn-KXEP",
        "outputId": "47c89d81-90e3-40ba-c1dd-a5b9bd7c2b31"
      },
      "execution_count": 3,
      "outputs": [
        {
          "output_type": "stream",
          "name": "stdout",
          "text": [
            "\n",
            "Feature Names:\n",
            " ['and' 'computer' 'fun' 'interesting' 'involves' 'is' 'linguistics' 'nlp'\n",
            " 'science']\n",
            "\n",
            "Bag-of-Words Representation:\n",
            " [[1 0 1 1 0 1 0 1 0]\n",
            " [1 1 0 0 1 0 1 1 1]]\n"
          ]
        }
      ]
    },
    {
      "cell_type": "markdown",
      "source": [
        "Implement Representation of Sentences on following or take any other sentence\n",
        "\"NLP is an interesting field.\", \"It involves processing natural language.\""
      ],
      "metadata": {
        "id": "vLIHaAMqLTvI"
      }
    },
    {
      "cell_type": "code",
      "source": [
        "import numpy as np\n",
        "from sklearn.feature_extraction.text import TfidfVectorizer\n",
        "\n",
        "# Define your sentences\n",
        "sentences = [\n",
        "    \"NLP is an interesting field.\",\n",
        "    \"It involves processing natural language.\"\n",
        "]\n",
        "\n",
        "# Initialize the TF-IDF Vectorizer\n",
        "tfidf_vectorizer = TfidfVectorizer()\n",
        "\n",
        "# Fit and transform the sentences\n",
        "tfidf_matrix = tfidf_vectorizer.fit_transform(sentences)\n",
        "\n",
        "# Get feature names\n",
        "tfidf_feature_names = tfidf_vectorizer.get_feature_names_out()\n",
        "print(\"\\nTF-IDF Feature Names:\\n\", tfidf_feature_names)\n",
        "\n",
        "# Get the TF-IDF representation\n",
        "tfidf_representation = tfidf_matrix.toarray()\n",
        "print(\"\\nTF-IDF Sentence Representation:\\n\", tfidf_representation)\n"
      ],
      "metadata": {
        "colab": {
          "base_uri": "https://localhost:8080/"
        },
        "id": "gQHQByDaKeu2",
        "outputId": "b85e7652-d4de-4779-9b9d-3b9a3622a5ae"
      },
      "execution_count": 5,
      "outputs": [
        {
          "output_type": "stream",
          "name": "stdout",
          "text": [
            "\n",
            "TF-IDF Feature Names:\n",
            " ['an' 'field' 'interesting' 'involves' 'is' 'it' 'language' 'natural'\n",
            " 'nlp' 'processing']\n",
            "\n",
            "TF-IDF Sentence Representation:\n",
            " [[0.4472136 0.4472136 0.4472136 0.        0.4472136 0.        0.\n",
            "  0.        0.4472136 0.       ]\n",
            " [0.        0.        0.        0.4472136 0.        0.4472136 0.4472136\n",
            "  0.4472136 0.        0.4472136]]\n"
          ]
        }
      ]
    }
  ]
}