{
  "nbformat": 4,
  "nbformat_minor": 0,
  "metadata": {
    "colab": {
      "provenance": []
    },
    "kernelspec": {
      "name": "python3",
      "display_name": "Python 3"
    },
    "language_info": {
      "name": "python"
    }
  },
  "cells": [
    {
      "cell_type": "markdown",
      "source": [
        "Natural Language processing Assignment-05"
      ],
      "metadata": {
        "id": "70zwG4UZoSUc"
      }
    },
    {
      "cell_type": "markdown",
      "source": [
        "Implement a Hidden Markov Model (HMM) for weather forecasting, taking scenario where we have hidden weather states (e.g., \"Sunny\" and \"Rainy\") and observable events (e.g., \"Dry\", \"Damp\", \"Wet\"). The goal is to predict the sequence of weather states based on the observations. [CO2]"
      ],
      "metadata": {
        "id": "d7uHVd3HobAl"
      }
    },
    {
      "cell_type": "code",
      "execution_count": 6,
      "metadata": {
        "colab": {
          "base_uri": "https://localhost:8080/"
        },
        "id": "dJcU0egGcmuD",
        "outputId": "c76d1bce-c6b4-43f1-9d74-694561d38fa2"
      },
      "outputs": [
        {
          "output_type": "stream",
          "name": "stdout",
          "text": [
            "Requirement already satisfied: hmmlearn in /usr/local/lib/python3.10/dist-packages (0.3.2)\n",
            "Requirement already satisfied: numpy>=1.10 in /usr/local/lib/python3.10/dist-packages (from hmmlearn) (1.26.4)\n",
            "Requirement already satisfied: scikit-learn!=0.22.0,>=0.16 in /usr/local/lib/python3.10/dist-packages (from hmmlearn) (1.3.2)\n",
            "Requirement already satisfied: scipy>=0.19 in /usr/local/lib/python3.10/dist-packages (from hmmlearn) (1.13.1)\n",
            "Requirement already satisfied: joblib>=1.1.1 in /usr/local/lib/python3.10/dist-packages (from scikit-learn!=0.22.0,>=0.16->hmmlearn) (1.4.2)\n",
            "Requirement already satisfied: threadpoolctl>=2.0.0 in /usr/local/lib/python3.10/dist-packages (from scikit-learn!=0.22.0,>=0.16->hmmlearn) (3.5.0)\n"
          ]
        }
      ],
      "source": [
        "!pip install hmmlearn"
      ]
    },
    {
      "cell_type": "code",
      "source": [
        "import numpy as np\n",
        "from hmmlearn import hmm\n",
        "states = [\"Sunny\", \"Rainy\"]\n",
        "n_states = len(states)\n",
        "observations = [\"Dry\", \"Damp\", \"Wet\"]\n",
        "n_observations = len(observations)\n",
        "transition_prob = np.array([\n",
        "    [0.7, 0.3],  # Sunny -> Sunny, Sunny -> Rainy\n",
        "    [0.4, 0.6]   # Rainy -> Sunny, Rainy -> Rainy\n",
        "])"
      ],
      "metadata": {
        "id": "Q_xcpqk4fy8o"
      },
      "execution_count": 3,
      "outputs": []
    },
    {
      "cell_type": "markdown",
      "source": [
        "Problem Setup\n",
        "States (S): Hidden states representing the weather (e.g., \"Sunny\", \"Rainy\").\n",
        "Observations (O): Observable events that we can measure (e.g., \"Dry\", \"Damp\", \"Wet\").\n",
        "Transition Probabilities (A): The probability of transitioning from one weather state to another.\n",
        "Emission Probabilities (B): The probability of observing a certain event given the weather state.\n",
        "Initial Probabilities (π): The probability distribution over the initial states."
      ],
      "metadata": {
        "id": "fxAOD7mipd_1"
      }
    },
    {
      "cell_type": "code",
      "source": [
        "import numpy as np\n",
        "states = [\"Sunny\", \"Rainy\"]\n",
        "observations = [\"Dry\", \"Damp\", \"Wet\"]\n",
        "transition_prob = np.array([[0.8, 0.2],  # P(Sunny -> Sunny), P(Sunny -> Rainy)\n",
        "                            [0.4, 0.6]]) # P(Rainy -> Sunny), P(Rainy -> Rainy)\n",
        "emission_prob = np.array([[0.6, 0.3, 0.1],  # P(Dry|Sunny), P(Damp|Sunny), P(Wet|Sunny)\n",
        "                          [0.1, 0.4, 0.5]]) # P(Dry|Rainy), P(Damp|Rainy), P(Wet|Rainy)\n",
        "initial_prob = np.array([0.5, 0.5])  # P(Sunny), P(Rainy)\n",
        "obs_seq = [0, 1, 2]  # [\"Dry\", \"Damp\", \"Wet\"]\n",
        "def viterbi(obs_seq, states, initial_prob, transition_prob, emission_prob):\n",
        "    n_states = len(states)\n",
        "    T = len(obs_seq)\n",
        "    dp = np.zeros((n_states, T))\n",
        "    path = np.zeros((n_states, T), dtype=int)\n",
        "    for s in range(n_states):\n",
        "        dp[s, 0] = initial_prob[s] * emission_prob[s, obs_seq[0]]\n",
        "    for t in range(1, T):\n",
        "        for s in range(n_states):\n",
        "            probabilities = dp[:, t-1] * transition_prob[:, s] * emission_prob[s, obs_seq[t]]\n",
        "            dp[s, t] = np.max(probabilities)\n",
        "            path[s, t] = np.argmax(probabilities)\n",
        "    # Backtrack to find the optimal state sequence\n",
        "    optimal_path = np.zeros(T, dtype=int)\n",
        "    optimal_path[T-1] = np.argmax(dp[:, T-1])\n",
        "    for t in range(T-2, -1, -1):\n",
        "        optimal_path[t] = path[optimal_path[t+1], t+1]\n",
        "    optimal_states = [states[state] for state in optimal_path]\n",
        "    return optimal_states\n",
        "# Predict the most likely sequence of states\n",
        "predicted_states = viterbi(obs_seq, states, initial_prob, transition_prob, emission_prob)\n",
        "print(\"Most likely weather sequence:\", predicted_states)"
      ],
      "metadata": {
        "colab": {
          "base_uri": "https://localhost:8080/"
        },
        "id": "xrgHcbs7gAOG",
        "outputId": "1ac0e478-13d8-4a94-d04a-22a5e476b509"
      },
      "execution_count": 4,
      "outputs": [
        {
          "output_type": "stream",
          "name": "stdout",
          "text": [
            "Most likely weather sequence: ['Sunny', 'Sunny', 'Rainy']\n"
          ]
        }
      ]
    },
    {
      "cell_type": "markdown",
      "source": [
        "Take different transition and emission probabilities or observation sequences on above problem and see how the model's predictions change. [CO2]"
      ],
      "metadata": {
        "id": "x5b3UiYuplEr"
      }
    },
    {
      "cell_type": "code",
      "source": [
        "# Emission probabilities (B)\n",
        "emission_prob = np.array([\n",
        "    [0.8, 0.15, 0.05],  # Sunny -> Dry, Damp, Wet\n",
        "    [0.1, 0.35, 0.55]   # Rainy -> Dry, Damp, Wet\n",
        "])\n",
        "# Initial probabilities (π)\n",
        "start_prob = np.array([0.6, 0.4])  # Sunny, Rainy\n",
        "# Create HMM model\n",
        "model = hmm.MultinomialHMM(n_components=n_states)\n",
        "model.startprob_ = start_prob\n",
        "model.transmat_ = transition_prob\n",
        "model.emissionprob_ = emission_prob\n",
        "observation_sequence = np.array([0, 1, 2, 0, 1]).reshape(-1, 1)  # Example observation sequence\n",
        "print(\"Observation sequence:\", [observations[i[0]] for i in observation_sequence])\n",
        "new_observation_sequence = np.array([2, 2, 1, 0]).reshape(-1, 1)  # Example: Wet -> Wet -> Damp -> Dry\n",
        "#logprob_new, hidden_states_new = model.decode(new_observation_sequence, algorithm=\"viterbi\")\n",
        "print(\"New Observation sequence:\", [observations[i[0]] for i in new_observation_sequence])"
      ],
      "metadata": {
        "colab": {
          "base_uri": "https://localhost:8080/"
        },
        "id": "UQYeAihojIWE",
        "outputId": "086532e2-2d4b-446e-dcc7-5c11153d3baf"
      },
      "execution_count": 5,
      "outputs": [
        {
          "output_type": "stream",
          "name": "stderr",
          "text": [
            "WARNING:hmmlearn.hmm:MultinomialHMM has undergone major changes. The previous version was implementing a CategoricalHMM (a special case of MultinomialHMM). This new implementation follows the standard definition for a Multinomial distribution (e.g. as in https://en.wikipedia.org/wiki/Multinomial_distribution). See these issues for details:\n",
            "https://github.com/hmmlearn/hmmlearn/issues/335\n",
            "https://github.com/hmmlearn/hmmlearn/issues/340\n"
          ]
        },
        {
          "output_type": "stream",
          "name": "stdout",
          "text": [
            "Observation sequence: ['Dry', 'Damp', 'Wet', 'Dry', 'Damp']\n",
            "New Observation sequence: ['Wet', 'Wet', 'Damp', 'Dry']\n"
          ]
        }
      ]
    },
    {
      "cell_type": "markdown",
      "source": [
        "Take different transition and emission probabilities or observation sequences on above problem and see how the model's predictions change. [CO2]"
      ],
      "metadata": {
        "id": "F56j-gEsrAn2"
      }
    },
    {
      "cell_type": "code",
      "source": [
        "import numpy as np\n",
        "from hmmlearn import hmm\n",
        "\n",
        "# Function to predict hidden states using HMM with GaussianHMM\n",
        "def run_hmm(obs_sequence, transition_prob, emission_prob, start_prob):\n",
        "    states = [\"Sunny\", \"Rainy\"]\n",
        "    n_states = len(states)\n",
        "\n",
        "    observations = [\"Dry\", \"Damp\", \"Wet\"]\n",
        "    obs_map = {\"Dry\": 0, \"Damp\": 1, \"Wet\": 2}\n",
        "\n",
        "    # Convert observation sequence into indices\n",
        "    obs_sequence = np.array([[obs_map[obs]] for obs in obs_sequence])\n",
        "\n",
        "    # Initialize the HMM model (GaussianHMM for categorical observation handling)\n",
        "    model = hmm.GaussianHMM(n_components=n_states, covariance_type=\"full\", n_iter=100)\n",
        "\n",
        "    # Set model parameters manually\n",
        "    model.startprob_ = start_prob\n",
        "    model.transmat_ = transition_prob\n",
        "\n",
        "    # Emission means and covariances for each state\n",
        "    means = np.array([[0], [1]])  # Mean of observation Dry/Damp/Wet for each state\n",
        "    covars = np.array([[[0.1]], [[0.1]]])  # Small variance to represent categorical nature\n",
        "\n",
        "    model.means_ = means\n",
        "    model.covars_ = covars\n",
        "\n",
        "    # Predict the hidden states using the Viterbi algorithm\n",
        "    logprob, state_sequence = model.decode(obs_sequence, algorithm=\"viterbi\")\n",
        "    predicted_states = [states[i] for i in state_sequence]\n",
        "\n",
        "    return predicted_states\n",
        "\n",
        "# Test with different configurations of transition and emission probabilities\n",
        "\n",
        "# Configuration 1: Transition and Emission probabilities\n",
        "transition_prob_1 = np.array([\n",
        "    [0.8, 0.2],  # Sunny -> Sunny, Sunny -> Rainy\n",
        "    [0.4, 0.6],  # Rainy -> Sunny, Rainy -> Rainy\n",
        "])\n",
        "\n",
        "emission_prob_1 = np.array([\n",
        "    [0.7, 0.2, 0.1],  # Sunny: Dry, Damp, Wet\n",
        "    [0.1, 0.3, 0.6],  # Rainy: Dry, Damp, Wet\n",
        "])\n",
        "\n",
        "start_prob_1 = np.array([0.6, 0.4])  # Initial probabilities for Sunny, Rainy\n",
        "\n",
        "# Observation sequences for testing\n",
        "obs_sequence_1 = [\"Dry\", \"Damp\", \"Wet\"]\n",
        "obs_sequence_2 = [\"Wet\", \"Damp\", \"Dry\"]\n",
        "\n",
        "# Run HMM for different configurations and observation sequences\n",
        "predicted_states_1_config1 = run_hmm(obs_sequence_1, transition_prob_1, emission_prob_1, start_prob_1)\n",
        "predicted_states_2_config1 = run_hmm(obs_sequence_2, transition_prob_1, emission_prob_1, start_prob_1)\n",
        "\n",
        "# Print the results\n",
        "print(\"Config 1 with obs_sequence_1:\", predicted_states_1_config1)\n",
        "print(\"Config 1 with obs_sequence_2:\", predicted_states_2_config1)\n"
      ],
      "metadata": {
        "colab": {
          "base_uri": "https://localhost:8080/"
        },
        "id": "77ZnM-SgqCPo",
        "outputId": "54e2b6e5-7b68-40c6-9ca4-cb01f1af7e8d"
      },
      "execution_count": 8,
      "outputs": [
        {
          "output_type": "stream",
          "name": "stdout",
          "text": [
            "Config 1 with obs_sequence_1: ['Sunny', 'Rainy', 'Rainy']\n",
            "Config 1 with obs_sequence_2: ['Rainy', 'Rainy', 'Sunny']\n"
          ]
        }
      ]
    }
  ]
}